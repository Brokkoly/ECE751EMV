{
 "cells": [
  {
   "cell_type": "code",
   "execution_count": 1,
   "metadata": {},
   "outputs": [
    {
     "name": "stdout",
     "output_type": "stream",
     "text": [
      "Populating the interactive namespace from numpy and matplotlib\n"
     ]
    }
   ],
   "source": [
    "%pylab inline"
   ]
  },
  {
   "cell_type": "code",
   "execution_count": 7,
   "metadata": {
    "collapsed": true
   },
   "outputs": [],
   "source": [
    "def intToHex(i,len):\n",
    "    if(i>2**(len*32)):\n",
    "        print(\"NUMBER TOO BIG\")\n",
    "        return \"\"\n",
    "    return format(i,\"#0%dx\"%(2+len*8))\n",
    "\n",
    "def intToHexStrings(i,len):\n",
    "    num = intToHex(i,len)\n",
    "    retArr = []\n",
    "    num = num[2:]\n",
    "    for i in arange(len):\n",
    "        #print(num[0+i*8:8+i*8])\n",
    "        #print(str(num[0+i*8:8+i*8]))\n",
    "        retArr.append(\"0x\"+str(num[0+i*8:8+i*8]))\n",
    "        print(retArr[i])\n",
    "    return retArr\n",
    "def makeHeaderFiles(arr,name,append = True):\n",
    "    fH = 0\n",
    "    fC = 0\n",
    "    if(append):\n",
    "        fH = open(\"inputs.h\",\"a\")\n",
    "        fC = open(\"inputs.c\",\"a\")\n",
    "    else:\n",
    "        fH = open(\"inputs.h\",\"w+\")\n",
    "        fC = open(\"inputs.c\",\"w+\")\n",
    "    fH.write(\"extern unsigned int %s[%d];\\n\"%(name,size(arr)))\n",
    "    fC.write(\"extern unsigned int %s[%d] = {\"%(name,size(arr)))\n",
    "    for i in arange(size(arr)):\n",
    "        if(i!=0):\n",
    "            fC.write(\",\")\n",
    "        fC.write(\"%s\"%arr[i])\n",
    "    fC.write(\"};\\n\")\n",
    "\n",
    "    \n",
    "def CAemodM(A,e,M):\n",
    "    return (A**e)%M\n",
    "\n",
    "\n",
    "def makeConsts(K,n,L):\n",
    "    #n is the length of an array\n",
    "    kstring = \"#define K %d;\\n\"%K\n",
    "    nstring = \"#define N %d;\\n\"%(K//2)\n",
    "    lstring = \"#define L %d;\\n\"%L\n",
    "    sizeString = \"#define SIZE %d\\n\"%n\n",
    "    Bmask = 1<<(K-1)\n",
    "    Emask = 1<<(L-1)\n",
    "    Bmasks = intToHexStrings(Bmask,n)\n",
    "    Emasks = intToHexStrings(Emask,n)\n",
    "    R2 = intToHexStrings(2**(K//2),n)\n",
    "    \n",
    "    fH = open(\"consts.h\",\"w+\")\n",
    "    fC = open(\"consts.c\",\"w+\")\n",
    "    fC.write(\"#include \\\"consts.h\\\"\\n\")\n",
    "    \n",
    "    \n",
    "    fH.write(\"#ifndef CONSTS_H\\n#define CONSTS_H\\n\")\n",
    "    fH.write(sizeString)\n",
    "    fH.write(kstring)\n",
    "    fH.write(nstring)\n",
    "    fH.write(lstring)\n",
    "    \n",
    "    \n",
    "    \n",
    "    fH.write(\"extern const unsigned int %s[%d];\\n\"%(\"bmask_extern\",n))\n",
    "    fC.write(\"const unsigned int %s[%d] = {\"%(\"bmask_extern\",n))\n",
    "    #print(type(Bmask))\n",
    "    for i in arange(n):\n",
    "        if(i!=0):\n",
    "            fC.write(\",\")\n",
    "        fC.write(\"%s\"%Bmasks[i])\n",
    "    fC.write(\"};\\n\")\n",
    "             \n",
    "             \n",
    "    fH.write(\"extern const unsigned int %s[%d];\\n\"%(\"emask_extern\",n))\n",
    "    fC.write(\"const unsigned int %s[%d] = {\"%(\"emask_extern\",n))\n",
    "             \n",
    "             \n",
    "    for i in arange(n):\n",
    "        if(i!=0):\n",
    "            fC.write(\",\")\n",
    "        fC.write(\"%s\"%Emasks[i])\n",
    "    fC.write(\"};\\n\")\n",
    "    \n",
    "             \n",
    "    fH.write(\"extern const unsigned int %s[%d];\\n\"%(\"R2_extern\",n))\n",
    "    fC.write(\"const unsigned int %s[%d] = {\"%(\"R2_extern\",n))\n",
    "             \n",
    "             \n",
    "    for i in arange(n):\n",
    "        if(i!=0):\n",
    "            fC.write(\",\")\n",
    "        fC.write(\"%s\"%R2[i])\n",
    "    fC.write(\"};\\n\")\n",
    "    \n",
    "             \n",
    "    fH.write(\"#endif\")\n",
    "    \n",
    "    fC.close()\n",
    "    fH.close()\n",
    "    \n",
    "    "
   ]
  },
  {
   "cell_type": "code",
   "execution_count": null,
   "metadata": {
    "collapsed": true
   },
   "outputs": [],
   "source": []
  },
  {
   "cell_type": "code",
   "execution_count": 8,
   "metadata": {},
   "outputs": [
    {
     "name": "stdout",
     "output_type": "stream",
     "text": [
      "0x00000000\n",
      "0x00008000\n",
      "0x00000000\n",
      "0x00008000\n",
      "0x00000000\n",
      "0x00000100\n"
     ]
    }
   ],
   "source": [
    "makeConsts(16,2,16)"
   ]
  },
  {
   "cell_type": "markdown",
   "metadata": {},
   "source": [
    "## $C = A^e mod(M)$\n",
    "### M = odd prime number greater than A or e\n",
    "### A = Anything your heart desires\n",
    "### e = anything your heart desires"
   ]
  },
  {
   "cell_type": "code",
   "execution_count": 52,
   "metadata": {
    "collapsed": true
   },
   "outputs": [],
   "source": [
    "#intToHexStrings(0x123456781234567812345678,3)\n",
    "#makeHeaderFiles(intToHexStrings(0x123456781234567812345678,3),\"test\",append = False)"
   ]
  },
  {
   "cell_type": "code",
   "execution_count": 53,
   "metadata": {},
   "outputs": [
    {
     "name": "stdout",
     "output_type": "stream",
     "text": [
      "16473402326825167309\n"
     ]
    }
   ],
   "source": [
    "M = \"16,473,402,326,825,167,309\"\n",
    "M = M.replace(\",\",\"\")\n",
    "print(M)"
   ]
  },
  {
   "cell_type": "code",
   "execution_count": null,
   "metadata": {
    "collapsed": true
   },
   "outputs": [],
   "source": []
  },
  {
   "cell_type": "code",
   "execution_count": 54,
   "metadata": {},
   "outputs": [
    {
     "name": "stdout",
     "output_type": "stream",
     "text": [
      "11400479740622884864\n"
     ]
    }
   ],
   "source": [
    "A = long((long(M)-1)*random.random())\n",
    "print(A)"
   ]
  },
  {
   "cell_type": "code",
   "execution_count": 55,
   "metadata": {},
   "outputs": [
    {
     "name": "stdout",
     "output_type": "stream",
     "text": [
      "8468519435681165312\n",
      "True\n"
     ]
    }
   ],
   "source": [
    "E = long((long(M)-1)*random.random())\n",
    "print(E)\n",
    "M = long(M)\n",
    "print(E<M)\n",
    "C = long(\"10855436929707441813\")"
   ]
  },
  {
   "cell_type": "code",
   "execution_count": 56,
   "metadata": {},
   "outputs": [
    {
     "name": "stdout",
     "output_type": "stream",
     "text": [
      "0xe49d4822\n",
      "0xec81e9cd\n",
      "0x7586398f\n",
      "0x01447000\n",
      "0x9e36a3eb\n",
      "0xf8dd5000\n",
      "0x96a6425f\n",
      "0x7cde7e95\n"
     ]
    }
   ],
   "source": [
    "Mstr = intToHexStrings(M,2)\n",
    "Estr = intToHexStrings(E,2)\n",
    "Astr = intToHexStrings(A,2)\n",
    "Cstr = intToHexStrings(C,2)\n",
    "makeHeaderFiles(Mstr,\"M_arr\",append = False)\n",
    "makeHeaderFiles(Estr,\"E_arr\")\n",
    "makeHeaderFiles(Cstr,\"C_arr\")\n",
    "makeHeaderFiles(Astr,\"A_arr\")"
   ]
  },
  {
   "cell_type": "code",
   "execution_count": 57,
   "metadata": {
    "collapsed": true
   },
   "outputs": [],
   "source": [
    "%qtconsole"
   ]
  },
  {
   "cell_type": "code",
   "execution_count": 58,
   "metadata": {},
   "outputs": [
    {
     "name": "stdout",
     "output_type": "stream",
     "text": [
      "14767\n"
     ]
    }
   ],
   "source": [
    "M = \"14,767\"\n",
    "M = M.replace(\",\",\"\")\n",
    "print(M)\n"
   ]
  },
  {
   "cell_type": "code",
   "execution_count": 59,
   "metadata": {},
   "outputs": [
    {
     "name": "stdout",
     "output_type": "stream",
     "text": [
      "5945\n"
     ]
    }
   ],
   "source": [
    "A = long((long(M)-1)*random.random())\n",
    "print(A)"
   ]
  },
  {
   "cell_type": "code",
   "execution_count": 60,
   "metadata": {},
   "outputs": [
    {
     "name": "stdout",
     "output_type": "stream",
     "text": [
      "14245\n",
      "True\n"
     ]
    }
   ],
   "source": [
    "E = long((long(M)-1)*random.random())\n",
    "print(E)\n",
    "M = long(M)\n",
    "print(E<M)\n",
    "C = CAemodM(A,E,M)"
   ]
  },
  {
   "cell_type": "code",
   "execution_count": 61,
   "metadata": {},
   "outputs": [
    {
     "name": "stdout",
     "output_type": "stream",
     "text": [
      "0x00000000\n",
      "0x000039af\n",
      "0x00000000\n",
      "0x000037a5\n",
      "0x00000000\n",
      "0x00001739\n",
      "0x00000000\n",
      "0x00000e1e\n"
     ]
    }
   ],
   "source": [
    "Mstr = intToHexStrings(M,2)\n",
    "Estr = intToHexStrings(E,2)\n",
    "Astr = intToHexStrings(A,2)\n",
    "Cstr = intToHexStrings(C,2)\n",
    "makeHeaderFiles(Mstr,\"M_arr\",append = False)\n",
    "makeHeaderFiles(Estr,\"E_arr\")\n",
    "makeHeaderFiles(Cstr,\"C_arr\")\n",
    "makeHeaderFiles(Astr,\"A_arr\")"
   ]
  },
  {
   "cell_type": "code",
   "execution_count": 62,
   "metadata": {},
   "outputs": [
    {
     "name": "stdout",
     "output_type": "stream",
     "text": [
      "5945\n",
      "14245\n",
      "14767\n",
      "3614\n"
     ]
    }
   ],
   "source": [
    "print(A)\n",
    "print(E)\n",
    "print(M)\n",
    "print(C)"
   ]
  },
  {
   "cell_type": "code",
   "execution_count": 46,
   "metadata": {},
   "outputs": [
    {
     "name": "stdout",
     "output_type": "stream",
     "text": [
      "0b11000\n",
      "0b110000\n"
     ]
    }
   ],
   "source": [
    "hex(855)\n",
    "print(bin(24))\n",
    "print(bin(48))"
   ]
  },
  {
   "cell_type": "markdown",
   "metadata": {},
   "source": [
    "#### 2**8"
   ]
  },
  {
   "cell_type": "code",
   "execution_count": 47,
   "metadata": {},
   "outputs": [
    {
     "data": {
      "text/plain": [
       "6"
      ]
     },
     "execution_count": 47,
     "metadata": {},
     "output_type": "execute_result"
    }
   ],
   "source": [
    "48>>3"
   ]
  },
  {
   "cell_type": "code",
   "execution_count": 48,
   "metadata": {},
   "outputs": [
    {
     "data": {
      "text/plain": [
       "'0b110'"
      ]
     },
     "execution_count": 48,
     "metadata": {},
     "output_type": "execute_result"
    }
   ],
   "source": [
    "bin(6)"
   ]
  },
  {
   "cell_type": "code",
   "execution_count": 49,
   "metadata": {},
   "outputs": [
    {
     "name": "stdout",
     "output_type": "stream",
     "text": [
      "6\n"
     ]
    }
   ],
   "source": [
    "a = 48\n",
    "for i in arange(3):\n",
    "    a = a>>1\n",
    "print(a)"
   ]
  },
  {
   "cell_type": "code",
   "execution_count": 70,
   "metadata": {},
   "outputs": [
    {
     "name": "stdout",
     "output_type": "stream",
     "text": [
      "0x00000000\n",
      "0x00008000\n",
      "0x00000000\n",
      "0x00008000\n",
      "0x00000000\n",
      "0x00000100\n"
     ]
    },
    {
     "ename": "TypeError",
     "evalue": "'int' object is not subscriptable",
     "output_type": "error",
     "traceback": [
      "\u001b[1;31m---------------------------------------------------------------------------\u001b[0m",
      "\u001b[1;31mTypeError\u001b[0m                                 Traceback (most recent call last)",
      "\u001b[1;32m<ipython-input-70-3615a1d13e3c>\u001b[0m in \u001b[0;36m<module>\u001b[1;34m()\u001b[0m\n\u001b[1;32m----> 1\u001b[1;33m \u001b[0mmakeConsts\u001b[0m\u001b[1;33m(\u001b[0m\u001b[1;36m16\u001b[0m\u001b[1;33m,\u001b[0m\u001b[1;36m2\u001b[0m\u001b[1;33m,\u001b[0m\u001b[1;36m16\u001b[0m\u001b[1;33m)\u001b[0m\u001b[1;33m\u001b[0m\u001b[0m\n\u001b[0m",
      "\u001b[1;32m<ipython-input-69-5f73689c5239>\u001b[0m in \u001b[0;36mmakeConsts\u001b[1;34m(K, n, L)\u001b[0m\n\u001b[0;32m     68\u001b[0m         \u001b[1;32mif\u001b[0m\u001b[1;33m(\u001b[0m\u001b[0mi\u001b[0m\u001b[1;33m!=\u001b[0m\u001b[1;36m0\u001b[0m\u001b[1;33m)\u001b[0m\u001b[1;33m:\u001b[0m\u001b[1;33m\u001b[0m\u001b[0m\n\u001b[0;32m     69\u001b[0m             \u001b[0mfC\u001b[0m\u001b[1;33m.\u001b[0m\u001b[0mwrite\u001b[0m\u001b[1;33m(\u001b[0m\u001b[1;34m\",\"\u001b[0m\u001b[1;33m)\u001b[0m\u001b[1;33m\u001b[0m\u001b[0m\n\u001b[1;32m---> 70\u001b[1;33m         \u001b[0mfC\u001b[0m\u001b[1;33m.\u001b[0m\u001b[0mwrite\u001b[0m\u001b[1;33m(\u001b[0m\u001b[1;34m\"%s\"\u001b[0m\u001b[1;33m%\u001b[0m\u001b[0mBmask\u001b[0m\u001b[1;33m[\u001b[0m\u001b[0mi\u001b[0m\u001b[1;33m]\u001b[0m\u001b[1;33m)\u001b[0m\u001b[1;33m\u001b[0m\u001b[0m\n\u001b[0m\u001b[0;32m     71\u001b[0m     \u001b[0mfC\u001b[0m\u001b[1;33m.\u001b[0m\u001b[0mwrite\u001b[0m\u001b[1;33m(\u001b[0m\u001b[1;34m\"};\\n\"\u001b[0m\u001b[1;33m)\u001b[0m\u001b[1;33m\u001b[0m\u001b[0m\n\u001b[0;32m     72\u001b[0m \u001b[1;33m\u001b[0m\u001b[0m\n",
      "\u001b[1;31mTypeError\u001b[0m: 'int' object is not subscriptable"
     ]
    }
   ],
   "source": [
    "makeConsts(16,2,16)"
   ]
  },
  {
   "cell_type": "code",
   "execution_count": null,
   "metadata": {
    "collapsed": true
   },
   "outputs": [],
   "source": []
  }
 ],
 "metadata": {
  "kernelspec": {
   "display_name": "Python 3",
   "language": "python",
   "name": "python3"
  },
  "language_info": {
   "codemirror_mode": {
    "name": "ipython",
    "version": 3
   },
   "file_extension": ".py",
   "mimetype": "text/x-python",
   "name": "python",
   "nbconvert_exporter": "python",
   "pygments_lexer": "ipython3",
   "version": "3.6.1"
  }
 },
 "nbformat": 4,
 "nbformat_minor": 2
}
