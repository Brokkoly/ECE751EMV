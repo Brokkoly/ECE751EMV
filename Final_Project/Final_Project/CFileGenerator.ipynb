{
 "cells": [
  {
   "cell_type": "code",
   "execution_count": 2,
   "metadata": {},
   "outputs": [
    {
     "name": "stdout",
     "output_type": "stream",
     "text": [
      "Populating the interactive namespace from numpy and matplotlib\n"
     ]
    }
   ],
   "source": [
    "%pylab inline"
   ]
  },
  {
   "cell_type": "code",
   "execution_count": 3,
   "metadata": {},
   "outputs": [
    {
     "name": "stdout",
     "output_type": "stream",
     "text": [
      "[[8]\n",
      " [16]\n",
      " [32]\n",
      " [64]\n",
      " [96]\n",
      " [128]]\n",
      "[[8 37]\n",
      " [16 7681]\n",
      " [32 2802319549]\n",
      " [64 2673226546743238987]\n",
      " [96 65277372688404172762993854013]\n",
      " [128 26784902520253269591603403956095746741]]\n",
      "[[2]\n",
      " [2]\n",
      " [2]\n",
      " [3]\n",
      " [4]\n",
      " [5]]\n"
     ]
    }
   ],
   "source": [
    "def intToHex(i,len):\n",
    "    if(i>2**(len*32)):\n",
    "        print(\"NUMBER TOO BIG\")\n",
    "        return \"\"\n",
    "    return format(i,\"#0%dx\"%(2+len*8))\n",
    "\n",
    "def intToHexStrings(i,len):\n",
    "    num = intToHex(i,len)\n",
    "    retArr = []\n",
    "    num = num[2:]\n",
    "    for i in arange(len):\n",
    "        #print(num[0+i*8:8+i*8])\n",
    "        #print(str(num[0+i*8:8+i*8]))\n",
    "        retArr.append(\"0x\"+str(num[0+i*8:8+i*8]))\n",
    "        print(retArr[i])\n",
    "    return retArr\n",
    "def makeHeaderFiles(arr,name,bits,append = True):\n",
    "    fH = 0\n",
    "    fC = 0\n",
    "    if(append):\n",
    "        fH = open(\"inputs%d.h\"%bits,\"a\")\n",
    "        fC = open(\"inputs%d.c\"%bits,\"a\")\n",
    "    else:\n",
    "        fH = open(\"inputs%d.h\"%bits,\"w+\")\n",
    "        fC = open(\"inputs%d.c\"%bits,\"w+\")\n",
    "    fC.write(\"#include \\\"inputs%d.h\\\"\\n\"%bits)\n",
    "    fH.write(\"extern unsigned int %s[%d];\\n\"%(name,size(arr)))\n",
    "    fC.write(\"extern unsigned int %s[%d] = {\"%(name,size(arr)))\n",
    "    for i in arange(size(arr)):\n",
    "        if(i!=0):\n",
    "            fC.write(\",\")\n",
    "        fC.write(\"%s\"%arr[i])\n",
    "    fC.write(\"};\\n\")\n",
    "\n",
    "    \n",
    "def CAemodM(A,e,M):\n",
    "    return (A**e)%M\n",
    "\n",
    "\n",
    "def makeConsts(K,n,L,bits):\n",
    "    #n is the length of an array\n",
    "    kstring = \"#define K %d;\\n\"%K\n",
    "    nstring = \"#define N %d;\\n\"%(K//2)\n",
    "    lstring = \"#define L %d;\\n\"%L\n",
    "    sizeString = \"#define SIZE %d\\n\"%n\n",
    "    Bmask = 1<<(K-1)\n",
    "    Emask = 1<<(L-1)\n",
    "    Bmasks = intToHexStrings(Bmask,n)\n",
    "    Emasks = intToHexStrings(Emask,n)\n",
    "    R2 = intToHexStrings(2**(K//2),n)\n",
    "    \n",
    "    fH = open(\"consts%d.h\"%bits,\"w+\")\n",
    "    fC = open(\"consts%d.c\"%bits,\"w+\")\n",
    "    fC.write(\"#include \\\"consts.h\\\"\\n\")\n",
    "    \n",
    "    \n",
    "    fH.write(\"#ifndef CONSTS_H\\n#define CONSTS_H\\n\")\n",
    "    fH.write(sizeString)\n",
    "    fH.write(kstring)\n",
    "    fH.write(nstring)\n",
    "    fH.write(lstring)\n",
    "    \n",
    "    \n",
    "    \n",
    "    fH.write(\"extern const unsigned int %s[%d];\\n\"%(\"bmask_extern\",n))\n",
    "    fC.write(\"const unsigned int %s[%d] = {\"%(\"bmask_extern\",n))\n",
    "    #print(type(Bmask))\n",
    "    for i in arange(n):\n",
    "        if(i!=0):\n",
    "            fC.write(\",\")\n",
    "        fC.write(\"%s\"%Bmasks[i])\n",
    "    fC.write(\"};\\n\")\n",
    "             \n",
    "             \n",
    "    fH.write(\"extern const unsigned int %s[%d];\\n\"%(\"emask_extern\",n))\n",
    "    fC.write(\"const unsigned int %s[%d] = {\"%(\"emask_extern\",n))\n",
    "             \n",
    "             \n",
    "    for i in arange(n):\n",
    "        if(i!=0):\n",
    "            fC.write(\",\")\n",
    "        fC.write(\"%s\"%Emasks[i])\n",
    "    fC.write(\"};\\n\")\n",
    "    \n",
    "             \n",
    "    fH.write(\"extern const unsigned int %s[%d];\\n\"%(\"R2_extern\",n))\n",
    "    fC.write(\"const unsigned int %s[%d] = {\"%(\"R2_extern\",n))\n",
    "             \n",
    "             \n",
    "    for i in arange(n):\n",
    "        if(i!=0):\n",
    "            fC.write(\",\")\n",
    "        fC.write(\"%s\"%R2[i])\n",
    "    fC.write(\"};\\n\")\n",
    "    \n",
    "             \n",
    "    fH.write(\"#endif\")\n",
    "    \n",
    "    fC.close()\n",
    "    fH.close()\n",
    "    \n",
    "primes = [[8,37],[16,7681],[32,2802319549],[64,2673226546743238987],[96,65277372688404172762993854013],[128,26784902520253269591603403956095746741]]\n",
    "primes = reshape(array(primes),(size(primes)//2,2))\n",
    "temp = reshape(primes[:,0],(size(primes[:,0]),1))\n",
    "print(temp)\n",
    "temp =(temp%32>0)+temp//32+1\n",
    "\n",
    "print(primes)\n",
    "print(temp)\n",
    "#todo: do bits"
   ]
  },
  {
   "cell_type": "code",
   "execution_count": 4,
   "metadata": {},
   "outputs": [
    {
     "data": {
      "text/plain": [
       "'    \\nMstr = intToHexStrings(M,2)\\nEstr = intToHexStrings(E,2)\\nAstr = intToHexStrings(A,2)\\nCstr = intToHexStrings(C,2)\\nmakeHeaderFiles(Mstr,\"M_arr\",append = False)\\nmakeHeaderFiles(Estr,\"E_arr\")\\nmakeHeaderFiles(Cstr,\"C_arr\")\\nmakeHeaderFiles(Astr,\"A_arr\")\\n'"
      ]
     },
     "execution_count": 4,
     "metadata": {},
     "output_type": "execute_result"
    }
   ],
   "source": [
    "\n",
    "for i in arange(size(temp))[:4]:\n",
    "    break\n",
    "    makeConsts(primes[i,0],temp[0],primes[i,0],primes[i,0])\n",
    "    M = primes[i,1]\n",
    "    A = long((long(M)-1)*random.random())\n",
    "    E = long((long(M)-1)*random.random())\n",
    "    \n",
    "    print(A)\n",
    "    print(E)\n",
    "    print(M)\n",
    "    X[i,0] = primes[i,0]\n",
    "    X[i,1] = primes[i,1]\n",
    "    X[i,2] = A\n",
    "    X[i,3] = E\n",
    "    X[i,4] = M\n",
    "    \n",
    "'''    \n",
    "Mstr = intToHexStrings(M,2)\n",
    "Estr = intToHexStrings(E,2)\n",
    "Astr = intToHexStrings(A,2)\n",
    "Cstr = intToHexStrings(C,2)\n",
    "makeHeaderFiles(Mstr,\"M_arr\",append = False)\n",
    "makeHeaderFiles(Estr,\"E_arr\")\n",
    "makeHeaderFiles(Cstr,\"C_arr\")\n",
    "makeHeaderFiles(Astr,\"A_arr\")\n",
    "'''\n"
   ]
  },
  {
   "cell_type": "code",
   "execution_count": 4,
   "metadata": {},
   "outputs": [
    {
     "name": "stdout",
     "output_type": "stream",
     "text": [
      "[[8 37 35 8 37 34 2]\n",
      " [16 7681 1683 502 7681 3532 2]\n",
      " [32 2802319549 939736442 13452636 2802319549 2054440219 2]\n",
      " [64 2673226546743238987 1762571356056571648 1032321769620534912\n",
      "  2673226546743238987 135291984750101496 3]]\n"
     ]
    }
   ],
   "source": [
    "X = empty((4,7),dtype=object)\n",
    "X[0,5] = 34\n",
    "X[1,5] = 3532\n",
    "X[2,5] = 2054440219\n",
    "X[3,5] = long(\"135291984750101496\")\n",
    "X[:,0] = primes[:4,0]\n",
    "X[:,1] = primes[:4,1]\n",
    "X[0,2]=35\n",
    "X[0,3]=8\n",
    "X[0,4]=37\n",
    "X[1,2]=1683\n",
    "X[1,3]=502\n",
    "X[1,4]=7681\n",
    "X[2,2]=939736442\n",
    "X[2,3]=13452636\n",
    "X[2,4]=2802319549\n",
    "X[3,2]=long(\"1762571356056571648\")\n",
    "X[3,3]=long(\"1032321769620534912\")\n",
    "X[3,4]=long(\"2673226546743238987\")\n",
    "X[:,6]= squeeze(temp[:4])\n",
    "print(X)"
   ]
  },
  {
   "cell_type": "code",
   "execution_count": 5,
   "metadata": {},
   "outputs": [
    {
     "name": "stdout",
     "output_type": "stream",
     "text": [
      "0x00000000\n",
      "0x00000080\n",
      "0x00000000\n",
      "0x00000080\n",
      "0x00000000\n",
      "0x00000010\n",
      "0x00000000\n",
      "0x00000025\n",
      "0x00000000\n",
      "0x00000008\n",
      "0x00000000\n",
      "0x00000022\n",
      "0x00000000\n",
      "0x00000023\n",
      "0x00000000\n",
      "0x00008000\n",
      "0x00000000\n",
      "0x00008000\n",
      "0x00000000\n",
      "0x00000100\n",
      "0x00000000\n",
      "0x00001e01\n",
      "0x00000000\n",
      "0x000001f6\n",
      "0x00000000\n",
      "0x00000dcc\n",
      "0x00000000\n",
      "0x00000693\n",
      "0x00000000\n",
      "0x80000000\n",
      "0x00000000\n",
      "0x80000000\n",
      "0x00000000\n",
      "0x00010000\n",
      "0x00000000\n",
      "0xa70800bd\n",
      "0x00000000\n",
      "0x00cd455c\n",
      "0x00000000\n",
      "0x7a74451b\n",
      "0x00000000\n",
      "0x38033d7a\n",
      "0x00000000\n",
      "0x80000000\n",
      "0x00000000\n",
      "0x00000000\n",
      "0x80000000\n",
      "0x00000000\n",
      "0x00000000\n",
      "0x00000001\n",
      "0x00000000\n",
      "0x00000000\n",
      "0x25193561\n",
      "0x82c6614b\n",
      "0x00000000\n",
      "0x0e538b2e\n",
      "0x14227680\n",
      "0x00000000\n",
      "0x01e0a757\n",
      "0xe3fcc3f8\n",
      "0x00000000\n",
      "0x1875e94f\n",
      "0x5107cf00\n"
     ]
    }
   ],
   "source": [
    "for i in arange(4):\n",
    "    makeConsts(X[i,0],X[i,6],X[i,0],X[i,0])\n",
    "    makeHeaderFiles(intToHexStrings(X[i,4],X[i,6]),\"M_arr\",X[i,0],append = False)\n",
    "    makeHeaderFiles(intToHexStrings(X[i,3],X[i,6]),\"E_arr\",X[i,0])\n",
    "    makeHeaderFiles(intToHexStrings(X[i,5],X[i,6]),\"C_arr\",X[i,0])\n",
    "    makeHeaderFiles(intToHexStrings(X[i,2],X[i,6]),\"A_arr\",X[i,0])\n",
    "    "
   ]
  },
  {
   "cell_type": "code",
   "execution_count": 44,
   "metadata": {},
   "outputs": [
    {
     "name": "stdout",
     "output_type": "stream",
     "text": [
      "0x00000000\n",
      "0x00000000\n",
      "0x00008000\n",
      "0x00000000\n",
      "0x00000000\n",
      "0x00008000\n",
      "0x00000000\n",
      "0x00000000\n",
      "0x00000100\n"
     ]
    }
   ],
   "source": [
    "makeConsts(16,3,16)"
   ]
  },
  {
   "cell_type": "markdown",
   "metadata": {},
   "source": [
    "## $C = A^e mod(M)$\n",
    "### M = odd prime number greater than A or e\n",
    "### A = Anything your heart desires\n",
    "### e = anything your heart desires"
   ]
  },
  {
   "cell_type": "code",
   "execution_count": 28,
   "metadata": {
    "collapsed": true
   },
   "outputs": [],
   "source": [
    "#intToHexStrings(0x123456781234567812345678,3)\n",
    "#makeHeaderFiles(intToHexStrings(0x123456781234567812345678,3),\"test\",append = False)"
   ]
  },
  {
   "cell_type": "code",
   "execution_count": 29,
   "metadata": {},
   "outputs": [
    {
     "name": "stdout",
     "output_type": "stream",
     "text": [
      "16473402326825167309\n"
     ]
    }
   ],
   "source": [
    "M = \"16,473,402,326,825,167,309\"\n",
    "M = M.replace(\",\",\"\")\n",
    "print(M)"
   ]
  },
  {
   "cell_type": "code",
   "execution_count": null,
   "metadata": {
    "collapsed": true
   },
   "outputs": [],
   "source": []
  },
  {
   "cell_type": "code",
   "execution_count": 30,
   "metadata": {},
   "outputs": [
    {
     "name": "stdout",
     "output_type": "stream",
     "text": [
      "9812707524584114176\n"
     ]
    }
   ],
   "source": [
    "A = long((long(M)-1)*random.random())\n",
    "E = long((long(M)-1)*random.random())\n",
    "print(A)"
   ]
  },
  {
   "cell_type": "code",
   "execution_count": 31,
   "metadata": {},
   "outputs": [
    {
     "name": "stdout",
     "output_type": "stream",
     "text": [
      "6373617756507233280\n",
      "True\n"
     ]
    }
   ],
   "source": [
    "E = long((long(M)-1)*random.random())\n",
    "print(E)\n",
    "M = long(M)\n",
    "print(E<M)\n",
    "C = long(\"10855436929707441813\")"
   ]
  },
  {
   "cell_type": "code",
   "execution_count": 32,
   "metadata": {},
   "outputs": [
    {
     "name": "stdout",
     "output_type": "stream",
     "text": [
      "0xe49d4822\n",
      "0xec81e9cd\n",
      "0x5873a394\n",
      "0xa6bc5c00\n",
      "0x882dbd80\n",
      "0xefa38800\n",
      "0x96a6425f\n",
      "0x7cde7e95\n"
     ]
    }
   ],
   "source": [
    "Mstr = intToHexStrings(M,2)\n",
    "Estr = intToHexStrings(E,2)\n",
    "Astr = intToHexStrings(A,2)\n",
    "Cstr = intToHexStrings(C,2)\n",
    "makeHeaderFiles(Mstr,\"M_arr\",append = False)\n",
    "makeHeaderFiles(Estr,\"E_arr\")\n",
    "makeHeaderFiles(Cstr,\"C_arr\")\n",
    "makeHeaderFiles(Astr,\"A_arr\")"
   ]
  },
  {
   "cell_type": "code",
   "execution_count": 33,
   "metadata": {
    "collapsed": true
   },
   "outputs": [],
   "source": [
    "%qtconsole"
   ]
  },
  {
   "cell_type": "code",
   "execution_count": 34,
   "metadata": {},
   "outputs": [
    {
     "name": "stdout",
     "output_type": "stream",
     "text": [
      "14767\n"
     ]
    }
   ],
   "source": [
    "M = \"14,767\"\n",
    "M = M.replace(\",\",\"\")\n",
    "print(M)\n"
   ]
  },
  {
   "cell_type": "code",
   "execution_count": 35,
   "metadata": {},
   "outputs": [
    {
     "name": "stdout",
     "output_type": "stream",
     "text": [
      "6213\n"
     ]
    }
   ],
   "source": [
    "A = long((long(M)-1)*random.random())\n",
    "print(A)"
   ]
  },
  {
   "cell_type": "code",
   "execution_count": 36,
   "metadata": {},
   "outputs": [
    {
     "name": "stdout",
     "output_type": "stream",
     "text": [
      "537\n",
      "True\n"
     ]
    }
   ],
   "source": [
    "E = long((long(M)-1)*random.random())\n",
    "print(E)\n",
    "M = long(M)\n",
    "print(E<M)\n",
    "C = CAemodM(A,E,M)"
   ]
  },
  {
   "cell_type": "code",
   "execution_count": 45,
   "metadata": {},
   "outputs": [
    {
     "name": "stdout",
     "output_type": "stream",
     "text": [
      "0x00000000\n",
      "0x00000000\n",
      "0x000039af\n",
      "0x00000000\n",
      "0x00000000\n",
      "0x00000219\n",
      "0x00000000\n",
      "0x00000000\n",
      "0x00001845\n",
      "0x00000000\n",
      "0x00000000\n",
      "0x00000029\n"
     ]
    }
   ],
   "source": [
    "Mstr = intToHexStrings(M,3)\n",
    "Estr = intToHexStrings(E,3)\n",
    "Astr = intToHexStrings(A,3)\n",
    "Cstr = intToHexStrings(C,3)\n",
    "makeHeaderFiles(Mstr,\"M_arr\",append = False)\n",
    "makeHeaderFiles(Estr,\"E_arr\")\n",
    "makeHeaderFiles(Cstr,\"C_arr\")\n",
    "makeHeaderFiles(Astr,\"A_arr\")"
   ]
  },
  {
   "cell_type": "code",
   "execution_count": 38,
   "metadata": {},
   "outputs": [
    {
     "name": "stdout",
     "output_type": "stream",
     "text": [
      "6213\n",
      "537\n",
      "14767\n",
      "41\n"
     ]
    }
   ],
   "source": [
    "print(A)\n",
    "print(E)\n",
    "print(M)\n",
    "print(C)"
   ]
  },
  {
   "cell_type": "code",
   "execution_count": 39,
   "metadata": {},
   "outputs": [
    {
     "name": "stdout",
     "output_type": "stream",
     "text": [
      "0b11000\n",
      "0b110000\n"
     ]
    }
   ],
   "source": [
    "hex(855)\n",
    "print(bin(24))\n",
    "print(bin(48))"
   ]
  },
  {
   "cell_type": "markdown",
   "metadata": {},
   "source": [
    "#### 2**8"
   ]
  },
  {
   "cell_type": "code",
   "execution_count": 85,
   "metadata": {},
   "outputs": [
    {
     "data": {
      "text/plain": [
       "[<matplotlib.lines.Line2D at 0x23ae4b6f828>]"
      ]
     },
     "execution_count": 85,
     "metadata": {},
     "output_type": "execute_result"
    },
    {
     "data": {
      "image/png": "[encoded data removed]",
      "text/plain": [
       "<matplotlib.figure.Figure at 0x23ae4854358>"
      ]
     },
     "metadata": {},
     "output_type": "display_data"
    }
   ],
   "source": [
    "xkcd()\n",
    "plot(arange(10),2**arange(10))"
   ]
  },
  {
   "cell_type": "code",
   "execution_count": null,
   "metadata": {
    "collapsed": true
   },
   "outputs": [],
   "source": []
  }
 ],
 "metadata": {
  "kernelspec": {
   "display_name": "Python 3",
   "language": "python",
   "name": "python3"
  },
  "language_info": {
   "codemirror_mode": {
    "name": "ipython",
    "version": 3
   },
   "file_extension": ".py",
   "mimetype": "text/x-python",
   "name": "python",
   "nbconvert_exporter": "python",
   "pygments_lexer": "ipython3",
   "version": "3.6.1"
  }
 },
 "nbformat": 4,
 "nbformat_minor": 2
}
